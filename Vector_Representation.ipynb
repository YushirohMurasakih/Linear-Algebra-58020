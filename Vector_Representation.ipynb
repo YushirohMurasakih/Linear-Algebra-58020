{
  "nbformat": 4,
  "nbformat_minor": 0,
  "metadata": {
    "colab": {
      "name": "Vector Representation",
      "provenance": [],
      "collapsed_sections": [],
      "authorship_tag": "ABX9TyM9pj5PWMoJqeiGKyFiS4Ir",
      "include_colab_link": true
    },
    "kernelspec": {
      "name": "python3",
      "display_name": "Python 3"
    },
    "language_info": {
      "name": "python"
    }
  },
  "cells": [
    {
      "cell_type": "markdown",
      "metadata": {
        "id": "view-in-github",
        "colab_type": "text"
      },
      "source": [
        "<a href=\"https://colab.research.google.com/github/YushirohMurasakih/Linear-Algebra-58020/blob/main/Vector_Representation.ipynb\" target=\"_parent\"><img src=\"https://colab.research.google.com/assets/colab-badge.svg\" alt=\"Open In Colab\"/></a>"
      ]
    },
    {
      "cell_type": "markdown",
      "metadata": {
        "id": "JZq2eBNaA4Is"
      },
      "source": [
        "#Matrix and its Operations\n"
      ]
    },
    {
      "cell_type": "code",
      "metadata": {
        "colab": {
          "base_uri": "https://localhost:8080/"
        },
        "id": "0lI18NgpApv2",
        "outputId": "13d4accb-ceee-4a01-81c4-e00cfc921693"
      },
      "source": [
        "import numpy as np\n",
        "#Create a 1x3 matrix\n",
        "a = np.array([1,2,3])\n",
        "print(a)\n"
      ],
      "execution_count": 1,
      "outputs": [
        {
          "output_type": "stream",
          "name": "stdout",
          "text": [
            "[1 2 3]\n"
          ]
        }
      ]
    },
    {
      "cell_type": "code",
      "metadata": {
        "colab": {
          "base_uri": "https://localhost:8080/"
        },
        "id": "NvZOIGV0B7G7",
        "outputId": "e7d58062-fc1b-4680-af55-f95d38c8cfdb"
      },
      "source": [
        "#create a 2x3 natrix\n",
        "b = np.array([[1,2,3],[4,5,6]]) #rectangular array\n",
        "print(b)"
      ],
      "execution_count": 2,
      "outputs": [
        {
          "output_type": "stream",
          "name": "stdout",
          "text": [
            "[[1 2 3]\n",
            " [4 5 6]]\n"
          ]
        }
      ]
    },
    {
      "cell_type": "code",
      "metadata": {
        "colab": {
          "base_uri": "https://localhost:8080/"
        },
        "id": "8qkBf8hYCnha",
        "outputId": "cc4c1484-b841-4b2a-ee37-1778937c114e"
      },
      "source": [
        "#3x3 matrix\n",
        "\n",
        "c  = np.array([[1,2,3],[4,5,6],[7,8,9]]) \n",
        "print(c)"
      ],
      "execution_count": 3,
      "outputs": [
        {
          "output_type": "stream",
          "name": "stdout",
          "text": [
            "[[1 2 3]\n",
            " [4 5 6]\n",
            " [7 8 9]]\n"
          ]
        }
      ]
    },
    {
      "cell_type": "code",
      "metadata": {
        "colab": {
          "base_uri": "https://localhost:8080/"
        },
        "id": "bIudReqzDAT6",
        "outputId": "f5ad0213-17f0-44a2-ae98-dda8997efc11"
      },
      "source": [
        "#constant array with all values are 6\n",
        "d = np.full((4,4),6) #square matrix\n",
        "print(d)"
      ],
      "execution_count": 4,
      "outputs": [
        {
          "output_type": "stream",
          "name": "stdout",
          "text": [
            "[[6 6 6 6]\n",
            " [6 6 6 6]\n",
            " [6 6 6 6]\n",
            " [6 6 6 6]]\n"
          ]
        }
      ]
    },
    {
      "cell_type": "code",
      "metadata": {
        "colab": {
          "base_uri": "https://localhost:8080/"
        },
        "id": "EOnNsd75Dkgj",
        "outputId": "915c28d8-39d3-483a-c79e-6b1e91eac7df"
      },
      "source": [
        "#diagonal matrix\n",
        "e = np.array([[1,2,3],[4,5,6],[7,8,9]])\n",
        "print(e)\n",
        "e = np.diagonal([[1,2,3],[4,5,6],[7,8,9]])\n",
        "print(e)"
      ],
      "execution_count": 5,
      "outputs": [
        {
          "output_type": "stream",
          "name": "stdout",
          "text": [
            "[[1 2 3]\n",
            " [4 5 6]\n",
            " [7 8 9]]\n",
            "[1 5 9]\n"
          ]
        }
      ]
    },
    {
      "cell_type": "code",
      "metadata": {
        "colab": {
          "base_uri": "https://localhost:8080/"
        },
        "id": "C_2Iy9xTEfw5",
        "outputId": "3da6c4c0-1816-4e33-f6be-5ae816b172e7"
      },
      "source": [
        "#identity matrix \n",
        "f= np.eye(4)\n",
        "print(f)"
      ],
      "execution_count": 6,
      "outputs": [
        {
          "output_type": "stream",
          "name": "stdout",
          "text": [
            "[[1. 0. 0. 0.]\n",
            " [0. 1. 0. 0.]\n",
            " [0. 0. 1. 0.]\n",
            " [0. 0. 0. 1.]]\n"
          ]
        }
      ]
    },
    {
      "cell_type": "code",
      "metadata": {
        "colab": {
          "base_uri": "https://localhost:8080/"
        },
        "id": "RaCr45hnE2gp",
        "outputId": "556f19b7-d309-4b80-d008-ba8b27542cbd"
      },
      "source": [
        "#zero matrix\n",
        "g= np.zeros((6,5))\n",
        "print(g)"
      ],
      "execution_count": 7,
      "outputs": [
        {
          "output_type": "stream",
          "name": "stdout",
          "text": [
            "[[0. 0. 0. 0. 0.]\n",
            " [0. 0. 0. 0. 0.]\n",
            " [0. 0. 0. 0. 0.]\n",
            " [0. 0. 0. 0. 0.]\n",
            " [0. 0. 0. 0. 0.]\n",
            " [0. 0. 0. 0. 0.]]\n"
          ]
        }
      ]
    },
    {
      "cell_type": "code",
      "metadata": {
        "colab": {
          "base_uri": "https://localhost:8080/"
        },
        "id": "lq-bHEQKFVA4",
        "outputId": "d6d46a42-d30c-4b41-8743-7a566b99b3fd"
      },
      "source": [
        "#empty matrix\n",
        "h=np.empty((0,5))\n",
        "print(h)"
      ],
      "execution_count": 8,
      "outputs": [
        {
          "output_type": "stream",
          "name": "stdout",
          "text": [
            "[]\n"
          ]
        }
      ]
    },
    {
      "cell_type": "code",
      "metadata": {
        "id": "KioGcFduFn1A",
        "colab": {
          "base_uri": "https://localhost:8080/"
        },
        "outputId": "1bb3b706-f24d-437b-cbaf-8219e50b838d"
      },
      "source": [
        "#addition\n",
        "i=np.array([[1,2,3],[4,5,6]])\n",
        "j=np.zeros((2,3))\n",
        "print(i+j)"
      ],
      "execution_count": 9,
      "outputs": [
        {
          "output_type": "stream",
          "name": "stdout",
          "text": [
            "[[1. 2. 3.]\n",
            " [4. 5. 6.]]\n"
          ]
        }
      ]
    },
    {
      "cell_type": "code",
      "metadata": {
        "id": "zOcPn5CgGW2I",
        "colab": {
          "base_uri": "https://localhost:8080/"
        },
        "outputId": "3717c587-471a-45f1-fdc1-4bb528a45369"
      },
      "source": [
        "#subtraction\n",
        "i=np.array([[1,2,3],[4,5,6]])\n",
        "i=np.array([[-1,2,4],[7,4,2]])\n",
        "print(i-j)"
      ],
      "execution_count": 10,
      "outputs": [
        {
          "output_type": "stream",
          "name": "stdout",
          "text": [
            "[[-1.  2.  4.]\n",
            " [ 7.  4.  2.]]\n"
          ]
        }
      ]
    }
  ]
}