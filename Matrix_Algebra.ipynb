{
  "nbformat": 4,
  "nbformat_minor": 0,
  "metadata": {
    "colab": {
      "name": "Matrix Algebra",
      "provenance": [],
      "authorship_tag": "ABX9TyMlMfE6XROqco2PtNXGoT87",
      "include_colab_link": true
    },
    "kernelspec": {
      "name": "python3",
      "display_name": "Python 3"
    },
    "language_info": {
      "name": "python"
    }
  },
  "cells": [
    {
      "cell_type": "markdown",
      "metadata": {
        "id": "view-in-github",
        "colab_type": "text"
      },
      "source": [
        "<a href=\"https://colab.research.google.com/github/YushirohMurasakih/Linear-Algebra-58020/blob/main/Matrix_Algebra.ipynb\" target=\"_parent\"><img src=\"https://colab.research.google.com/assets/colab-badge.svg\" alt=\"Open In Colab\"/></a>"
      ]
    },
    {
      "cell_type": "code",
      "metadata": {
        "id": "Up9dmCwUQUH1"
      },
      "source": [
        "import numpy as np"
      ],
      "execution_count": 1,
      "outputs": []
    },
    {
      "cell_type": "markdown",
      "metadata": {
        "id": "JB7IflNoWYNn"
      },
      "source": [
        "##Matrix Algebra"
      ]
    },
    {
      "cell_type": "code",
      "metadata": {
        "colab": {
          "base_uri": "https://localhost:8080/"
        },
        "id": "rI2AU6M6Wo7p",
        "outputId": "6f7c3a2d-6545-4d43-dbec-9f676b29ff05"
      },
      "source": [
        "A = np.array([[1,2],[4,7]])\n",
        "invA=(np.linalg.inv(A))\n",
        "print(invA)"
      ],
      "execution_count": 5,
      "outputs": [
        {
          "output_type": "stream",
          "name": "stdout",
          "text": [
            "[[-7.  2.]\n",
            " [ 4. -1.]]\n"
          ]
        }
      ]
    },
    {
      "cell_type": "code",
      "metadata": {
        "colab": {
          "base_uri": "https://localhost:8080/"
        },
        "id": "i6C8X6rVYsJU",
        "outputId": "4e8f9ee8-22d2-41cf-b98a-616418b3fceb"
      },
      "source": [
        "C = np.dot(A,invA)\n",
        "print(C)"
      ],
      "execution_count": 6,
      "outputs": [
        {
          "output_type": "stream",
          "name": "stdout",
          "text": [
            "[[1. 0.]\n",
            " [0. 1.]]\n"
          ]
        }
      ]
    },
    {
      "cell_type": "markdown",
      "metadata": {
        "id": "yTI7xZHsZLOM"
      },
      "source": [
        "##Program that applies the inverse of a 3x3 Matrix"
      ]
    },
    {
      "cell_type": "code",
      "metadata": {
        "colab": {
          "base_uri": "https://localhost:8080/"
        },
        "id": "rRkOMC00ZV1w",
        "outputId": "71b01c8a-40ae-4cfc-e27a-2626f8a4ba78"
      },
      "source": [
        "B = np.array([[8,9,5],[3,4,2],[4,5,3]])\n",
        "invB = np.linalg.inv(B)\n",
        "print(invB)"
      ],
      "execution_count": 55,
      "outputs": [
        {
          "output_type": "stream",
          "name": "stdout",
          "text": [
            "[[ 1.  -1.  -1. ]\n",
            " [-0.5  2.  -0.5]\n",
            " [-0.5 -2.   2.5]]\n"
          ]
        }
      ]
    },
    {
      "cell_type": "code",
      "metadata": {
        "colab": {
          "base_uri": "https://localhost:8080/"
        },
        "id": "MOMFplNzcxqG",
        "outputId": "714118d4-f94a-448f-97e7-df9adcb3446b"
      },
      "source": [
        "C= np.dot(B,invB) #Checking for the theorem\n",
        "print(C)"
      ],
      "execution_count": 56,
      "outputs": [
        {
          "output_type": "stream",
          "name": "stdout",
          "text": [
            "[[ 1.0000000e+00 -4.4408921e-16  4.4408921e-16]\n",
            " [ 0.0000000e+00  1.0000000e+00  8.8817842e-16]\n",
            " [ 0.0000000e+00 -4.4408921e-16  1.0000000e+00]]\n"
          ]
        }
      ]
    },
    {
      "cell_type": "markdown",
      "metadata": {
        "id": "8oUVjBiTjkwB"
      },
      "source": [
        "##Transpose of the 3x3 Matrix"
      ]
    },
    {
      "cell_type": "code",
      "metadata": {
        "colab": {
          "base_uri": "https://localhost:8080/"
        },
        "id": "7_CALWsMjkP_",
        "outputId": "a76a325c-7696-4f8f-96f7-505eeebd4698"
      },
      "source": [
        "D = np.transpose(B)\n",
        "print(D)"
      ],
      "execution_count": 59,
      "outputs": [
        {
          "output_type": "stream",
          "name": "stdout",
          "text": [
            "[[8 3 4]\n",
            " [9 4 5]\n",
            " [5 2 3]]\n"
          ]
        }
      ]
    },
    {
      "cell_type": "markdown",
      "metadata": {
        "id": "MLXhLTuzkNuw"
      },
      "source": [
        "##Inverse of a 4x4 Matrix"
      ]
    },
    {
      "cell_type": "code",
      "metadata": {
        "colab": {
          "base_uri": "https://localhost:8080/"
        },
        "id": "xIJshvDTkNR_",
        "outputId": "74359812-e1de-4765-a20b-1c1189116851"
      },
      "source": [
        "E= np.array([[3,4,6,5],[9,8,3,2],[2,5,4,3],[5,8,4,6]])\n",
        "print(E)"
      ],
      "execution_count": 66,
      "outputs": [
        {
          "output_type": "stream",
          "name": "stdout",
          "text": [
            "[[3 4 6 5]\n",
            " [9 8 3 2]\n",
            " [2 5 4 3]\n",
            " [5 8 4 6]]\n"
          ]
        }
      ]
    },
    {
      "cell_type": "code",
      "metadata": {
        "colab": {
          "base_uri": "https://localhost:8080/"
        },
        "id": "ePzve1GGmPNn",
        "outputId": "2d65250f-70f0-4d1a-c1ca-0ca792ef04d2"
      },
      "source": [
        "F= np.linalg.inv(E)\n",
        "print(F)"
      ],
      "execution_count": 67,
      "outputs": [
        {
          "output_type": "stream",
          "name": "stdout",
          "text": [
            "[[ 0.15652174  0.13913043 -0.32463768 -0.01449275]\n",
            " [-0.26956522 -0.0173913   0.37391304  0.04347826]\n",
            " [ 0.17391304  0.04347826  0.23188406 -0.27536232]\n",
            " [ 0.11304348 -0.12173913 -0.3826087   0.30434783]]\n"
          ]
        }
      ]
    },
    {
      "cell_type": "markdown",
      "metadata": {
        "id": "nmlewhTLlgBs"
      },
      "source": [
        "Transpose of the 4x4 Matrix"
      ]
    },
    {
      "cell_type": "code",
      "metadata": {
        "colab": {
          "base_uri": "https://localhost:8080/"
        },
        "id": "5RL7NLltlzHr",
        "outputId": "dc96a874-f9b0-43cb-dec1-704d27905833"
      },
      "source": [
        "G= np.transpose(E)\n",
        "print(E)"
      ],
      "execution_count": 65,
      "outputs": [
        {
          "output_type": "stream",
          "name": "stdout",
          "text": [
            "[[3 4 6 5]\n",
            " [9 8 3 2]\n",
            " [2 5 4 3]\n",
            " [5 8 4 6]]\n"
          ]
        }
      ]
    }
  ]
}