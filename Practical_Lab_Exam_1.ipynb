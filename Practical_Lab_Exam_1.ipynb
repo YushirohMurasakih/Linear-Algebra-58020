{
  "nbformat": 4,
  "nbformat_minor": 0,
  "metadata": {
    "colab": {
      "name": "Practical Lab Exam 1",
      "provenance": [],
      "authorship_tag": "ABX9TyP0fVZajgEXwtxvr9GvMGVt",
      "include_colab_link": true
    },
    "kernelspec": {
      "name": "python3",
      "display_name": "Python 3"
    },
    "language_info": {
      "name": "python"
    }
  },
  "cells": [
    {
      "cell_type": "markdown",
      "metadata": {
        "id": "view-in-github",
        "colab_type": "text"
      },
      "source": [
        "<a href=\"https://colab.research.google.com/github/YushirohMurasakih/Linear-Algebra-58020/blob/main/Practical_Lab_Exam_1.ipynb\" target=\"_parent\"><img src=\"https://colab.research.google.com/assets/colab-badge.svg\" alt=\"Open In Colab\"/></a>"
      ]
    },
    {
      "cell_type": "markdown",
      "metadata": {
        "id": "Y2oP8lfCF_ut"
      },
      "source": [
        "# **Practical Lab Exam 1**"
      ]
    },
    {
      "cell_type": "code",
      "metadata": {
        "id": "mpa1lE8i3j5d"
      },
      "source": [
        "import numpy as np "
      ],
      "execution_count": 2,
      "outputs": []
    },
    {
      "cell_type": "markdown",
      "metadata": {
        "id": "8NV0JPkJCM73"
      },
      "source": [
        "# **Problem 1**"
      ]
    },
    {
      "cell_type": "code",
      "metadata": {
        "id": "T5YlVxdm--h3"
      },
      "source": [
        "w = np.array([[1, -3,0],[2,-2,0],[3,1,0]])\n",
        "x = np.array([[3,2,1],[-1,2,3],[2,1,-1]])\n",
        "y = np.array([[1,2,0],[0,-1,2],[0,0,0]])\n",
        "z = np.array([[0,1],[2,3]])\n"
      ],
      "execution_count": 19,
      "outputs": []
    },
    {
      "cell_type": "code",
      "metadata": {
        "colab": {
          "base_uri": "https://localhost:8080/"
        },
        "id": "PPNuAvbrAnlu",
        "outputId": "5852496a-a743-4a50-d848-664aee073677"
      },
      "source": [
        "#A\n",
        "output=np.dot(w,y)\n",
        "print(output)"
      ],
      "execution_count": 20,
      "outputs": [
        {
          "output_type": "stream",
          "name": "stdout",
          "text": [
            "[[ 1  5 -6]\n",
            " [ 2  6 -4]\n",
            " [ 3  5  2]]\n"
          ]
        }
      ]
    },
    {
      "cell_type": "code",
      "metadata": {
        "colab": {
          "base_uri": "https://localhost:8080/"
        },
        "id": "TKbnM-ZVB-9C",
        "outputId": "dc9a6931-7b92-4744-f57e-4458b73b01ff"
      },
      "source": [
        "#B\n",
        "output=np.add(z,z)\n",
        "print(output)"
      ],
      "execution_count": 16,
      "outputs": [
        {
          "output_type": "stream",
          "name": "stdout",
          "text": [
            "[[0 2]\n",
            " [4 6]]\n"
          ]
        }
      ]
    },
    {
      "cell_type": "code",
      "metadata": {
        "colab": {
          "base_uri": "https://localhost:8080/"
        },
        "id": "D8fhjgCgCLeB",
        "outputId": "bcf8112d-7e0f-487c-e4fa-e780c06f9793"
      },
      "source": [
        "#C\n",
        "output=np.dot(3,x)\n",
        "print(output)\n"
      ],
      "execution_count": 21,
      "outputs": [
        {
          "output_type": "stream",
          "name": "stdout",
          "text": [
            "[[ 9  6  3]\n",
            " [-3  6  9]\n",
            " [ 6  3 -3]]\n"
          ]
        }
      ]
    },
    {
      "cell_type": "markdown",
      "metadata": {
        "id": "fj1T4sKtCw4D"
      },
      "source": [
        "# **Problem 2**"
      ]
    },
    {
      "cell_type": "code",
      "metadata": {
        "colab": {
          "base_uri": "https://localhost:8080/"
        },
        "id": "fMl33VcjCzin",
        "outputId": "112eddf1-03b9-4096-e172-a15d1ab10ebd"
      },
      "source": [
        "#A The product (YW)2 is not defined\n",
        "ans1=np.cross(y,w)\n",
        "\n",
        "ans2= 2*ans1\n",
        "print(ans2)\n",
        "\n",
        "#A is false"
      ],
      "execution_count": 26,
      "outputs": [
        {
          "output_type": "stream",
          "name": "stdout",
          "text": [
            "[[  0   0 -10]\n",
            " [  8   8   4]\n",
            " [  0   0   0]]\n"
          ]
        }
      ]
    },
    {
      "cell_type": "code",
      "metadata": {
        "colab": {
          "base_uri": "https://localhost:8080/"
        },
        "id": "7CGBBjxiECHm",
        "outputId": "e3bcf667-002e-46ef-f008-d4b169ceb2b3"
      },
      "source": [
        "#B WY – X = \n",
        "b1=np.dot(w,y)\n",
        "b2=np.subtract(b1,x)\n",
        "\n",
        "print(b2)\n",
        "\n",
        "#B is false"
      ],
      "execution_count": 29,
      "outputs": [
        {
          "output_type": "stream",
          "name": "stdout",
          "text": [
            "[[-2  3 -7]\n",
            " [ 3  4 -7]\n",
            " [ 1  4  3]]\n"
          ]
        }
      ]
    },
    {
      "cell_type": "code",
      "metadata": {
        "colab": {
          "base_uri": "https://localhost:8080/"
        },
        "id": "128DSccsEnGE",
        "outputId": "3aa3e166-6050-408d-d121-d5c9177dc702"
      },
      "source": [
        "#C\n",
        "\n",
        "c1=np.dot(y,w)\n",
        "c2=2*z\n",
        "\n",
        "c1=([[5,-7],[4,4]])\n",
        "\n",
        "c3=np.subtract(c1,c2)\n",
        "\n",
        "print(c3)\n",
        "\n",
        "#C is true"
      ],
      "execution_count": 37,
      "outputs": [
        {
          "output_type": "stream",
          "name": "stdout",
          "text": [
            "[[ 5 -9]\n",
            " [ 0 -2]]\n"
          ]
        }
      ]
    },
    {
      "cell_type": "markdown",
      "metadata": {
        "id": "YhT1X3IrFuJq"
      },
      "source": [
        "# **The true statement is statement C**"
      ]
    }
  ]
}