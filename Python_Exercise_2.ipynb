{
  "nbformat": 4,
  "nbformat_minor": 0,
  "metadata": {
    "colab": {
      "name": "Python Exercise 2",
      "provenance": [],
      "authorship_tag": "ABX9TyMJqWboKkIi242+vUtuKtDT",
      "include_colab_link": true
    },
    "kernelspec": {
      "name": "python3",
      "display_name": "Python 3"
    },
    "language_info": {
      "name": "python"
    }
  },
  "cells": [
    {
      "cell_type": "markdown",
      "metadata": {
        "id": "view-in-github",
        "colab_type": "text"
      },
      "source": [
        "<a href=\"https://colab.research.google.com/github/YushirohMurasakih/Linear-Algebra-58020/blob/main/Python_Exercise_2.ipynb\" target=\"_parent\"><img src=\"https://colab.research.google.com/assets/colab-badge.svg\" alt=\"Open In Colab\"/></a>"
      ]
    },
    {
      "cell_type": "markdown",
      "metadata": {
        "id": "1HqWsRcL5TFJ"
      },
      "source": [
        "#Vector Spaces and its operations"
      ]
    },
    {
      "cell_type": "code",
      "metadata": {
        "id": "lXYDKcsP2zhK"
      },
      "source": [
        "import numpy as np"
      ],
      "execution_count": 1,
      "outputs": []
    },
    {
      "cell_type": "code",
      "metadata": {
        "colab": {
          "base_uri": "https://localhost:8080/"
        },
        "id": "eOPAA_nm4uAT",
        "outputId": "f1cf0128-bd93-4774-b260-0f7f30558030"
      },
      "source": [
        "A = np.array([4,3])\n",
        "B = np.array ([2,-5])\n",
        "print('Vector A is', A)\n",
        "print('Vector B is', B)\n"
      ],
      "execution_count": 10,
      "outputs": [
        {
          "output_type": "stream",
          "name": "stdout",
          "text": [
            "Vector A is [4 3]\n",
            "Vector B is [ 2 -5]\n"
          ]
        }
      ]
    },
    {
      "cell_type": "markdown",
      "metadata": {
        "id": "Tkxu9nkd7k6E"
      },
      "source": [
        "###Checking shapes\n",
        "###shapes tells how many rows and Columns"
      ]
    },
    {
      "cell_type": "code",
      "metadata": {
        "colab": {
          "base_uri": "https://localhost:8080/"
        },
        "id": "CVc5oJ_W5cWE",
        "outputId": "4a15ef7d-c3c3-4d66-a633-707728c00749"
      },
      "source": [
        "ball1=np.array([1,2,3])\n",
        "ball2=np.array([0,1,-1])\n",
        "pool=np.array([ball1,ball2])\n",
        "print(pool.shape)\n",
        "print(pool.size)\n",
        "print(pool.ndim)"
      ],
      "execution_count": 17,
      "outputs": [
        {
          "output_type": "stream",
          "name": "stdout",
          "text": [
            "(2, 3)\n",
            "6\n",
            "2\n"
          ]
        }
      ]
    },
    {
      "cell_type": "code",
      "metadata": {
        "colab": {
          "base_uri": "https://localhost:8080/"
        },
        "id": "NT42yp8j9Ez2",
        "outputId": "13437770-4e4e-4eda-879b-c3a1077d30e2"
      },
      "source": [
        "R=A+B\n",
        "print(R)"
      ],
      "execution_count": 19,
      "outputs": [
        {
          "output_type": "stream",
          "name": "stdout",
          "text": [
            "[ 6 -2]\n"
          ]
        }
      ]
    },
    {
      "cell_type": "markdown",
      "metadata": {
        "id": "in0JzDb0Auew"
      },
      "source": [
        "#Addition"
      ]
    },
    {
      "cell_type": "code",
      "metadata": {
        "colab": {
          "base_uri": "https://localhost:8080/"
        },
        "id": "qEeI5-b__CPk",
        "outputId": "aac046d5-0535-42ad-fc59-272db629b4a8"
      },
      "source": [
        "R=np.add(A,B)\n",
        "print(R)"
      ],
      "execution_count": 21,
      "outputs": [
        {
          "output_type": "stream",
          "name": "stdout",
          "text": [
            "[ 6 -2]\n"
          ]
        }
      ]
    },
    {
      "cell_type": "markdown",
      "metadata": {
        "id": "qkYeR0ZmAxu4"
      },
      "source": [
        "##Subtraction"
      ]
    },
    {
      "cell_type": "code",
      "metadata": {
        "colab": {
          "base_uri": "https://localhost:8080/"
        },
        "id": "sRLS7qjG_VNR",
        "outputId": "d2da61b7-c058-40a2-b341-dc528302ea4b"
      },
      "source": [
        "R=np.subtract(A,B)\n",
        "print(R)"
      ],
      "execution_count": 23,
      "outputs": [
        {
          "output_type": "stream",
          "name": "stdout",
          "text": [
            "[2 8]\n"
          ]
        }
      ]
    },
    {
      "cell_type": "markdown",
      "metadata": {
        "id": "7O3sxldMBCBT"
      },
      "source": [
        "##Scaling\n",
        "\n"
      ]
    },
    {
      "cell_type": "code",
      "metadata": {
        "colab": {
          "base_uri": "https://localhost:8080/"
        },
        "id": "9kTsoi_0BGtw",
        "outputId": "b61f8497-e862-4c26-bcd4-3d93bdb62ca9"
      },
      "source": [
        "A=np.array([1,5,8,9])\n",
        "S= 5*A\n",
        "print(S)"
      ],
      "execution_count": 24,
      "outputs": [
        {
          "output_type": "stream",
          "name": "stdout",
          "text": [
            "[ 5 25 40 45]\n"
          ]
        }
      ]
    },
    {
      "cell_type": "code",
      "metadata": {
        "colab": {
          "base_uri": "https://localhost:8080/"
        },
        "id": "BPU_VK_eBVJE",
        "outputId": "49b1e17b-2940-4ea1-889d-f224053ff998"
      },
      "source": [
        "S= np.multiply(5,A)\n",
        "print(S)"
      ],
      "execution_count": 27,
      "outputs": [
        {
          "output_type": "stream",
          "name": "stdout",
          "text": [
            "[ 5 25 40 45]\n"
          ]
        }
      ]
    },
    {
      "cell_type": "markdown",
      "metadata": {
        "id": "rdv6ur48CBqV"
      },
      "source": [
        "##Cross product of Arrays"
      ]
    },
    {
      "cell_type": "code",
      "metadata": {
        "colab": {
          "base_uri": "https://localhost:8080/"
        },
        "id": "hpE4szqUCGx1",
        "outputId": "7064ff0a-f76a-405c-b05b-a05f886e2f77"
      },
      "source": [
        "A=np.array([2,3])\n",
        "B=np.array([1,7])\n",
        "\n",
        "output=np.cross(A,B)\n",
        "print(output)"
      ],
      "execution_count": 28,
      "outputs": [
        {
          "output_type": "stream",
          "name": "stdout",
          "text": [
            "11\n"
          ]
        }
      ]
    },
    {
      "cell_type": "code",
      "metadata": {
        "colab": {
          "base_uri": "https://localhost:8080/"
        },
        "id": "XoV_r-SSD9C6",
        "outputId": "7301a49b-4cba-44e8-af73-a351031d6f62"
      },
      "source": [
        "#dot product of A and B\n",
        "output=np.dot(A,B)\n",
        "print(output)"
      ],
      "execution_count": 29,
      "outputs": [
        {
          "output_type": "stream",
          "name": "stdout",
          "text": [
            "23\n"
          ]
        }
      ]
    }
  ]
}