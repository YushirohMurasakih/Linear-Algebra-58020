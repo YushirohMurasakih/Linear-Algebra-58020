{
  "nbformat": 4,
  "nbformat_minor": 0,
  "metadata": {
    "colab": {
      "name": "Final Exam",
      "provenance": [],
      "authorship_tag": "ABX9TyOlqYtK3/nXpduvDlYCzuRU",
      "include_colab_link": true
    },
    "kernelspec": {
      "name": "python3",
      "display_name": "Python 3"
    },
    "language_info": {
      "name": "python"
    }
  },
  "cells": [
    {
      "cell_type": "markdown",
      "metadata": {
        "id": "view-in-github",
        "colab_type": "text"
      },
      "source": [
        "<a href=\"https://colab.research.google.com/github/YushirohMurasakih/Linear-Algebra-58020/blob/main/Final_Exam.ipynb\" target=\"_parent\"><img src=\"https://colab.research.google.com/assets/colab-badge.svg\" alt=\"Open In Colab\"/></a>"
      ]
    },
    {
      "cell_type": "code",
      "source": [
        "import numpy as np\n",
        "from numpy.linalg import eig "
      ],
      "metadata": {
        "id": "gDBqDaaoXOY6"
      },
      "execution_count": 5,
      "outputs": []
    },
    {
      "cell_type": "markdown",
      "source": [
        "##Problem 1"
      ],
      "metadata": {
        "id": "B55UH8AqYLD4"
      }
    },
    {
      "cell_type": "code",
      "source": [
        "studC = 19\n",
        "\n",
        "studA = (studC - 6)\n",
        "studB = (studC * 3)\n",
        "\n",
        "print(\"Student A has \", studA)\n",
        "print(\"Student B has \", studB)\n",
        "print(\"Student C has \", studC)"
      ],
      "metadata": {
        "colab": {
          "base_uri": "https://localhost:8080/"
        },
        "id": "Ktj0iDN5YOOs",
        "outputId": "9c00a1e2-de50-4ad4-acc8-184a766459db"
      },
      "execution_count": 10,
      "outputs": [
        {
          "output_type": "stream",
          "name": "stdout",
          "text": [
            "Student A has  13\n",
            "Student B has  57\n",
            "Student C has  19\n"
          ]
        }
      ]
    },
    {
      "cell_type": "markdown",
      "source": [
        "##Problem 2"
      ],
      "metadata": {
        "id": "fAcHPJgOZiGr"
      }
    },
    {
      "cell_type": "code",
      "source": [
        "A = np.array([[3,-1,1], [9,-3,3], [-12,4,-4]])\n",
        "print(\"Matrix A\", A)\n",
        "inv_A = np.linalg.pinv(A)\n",
        "print(\"Inv A\", inv_A)\n",
        "B = np.array([[5],[10],[-20]])\n",
        "print(\"Matrix A\", A)\n",
        "X = np.dot(inv_A, B)\n",
        "print(\"Dot\", X)\n",
        "C = np.dot(A, X)\n",
        "print(\"Checking\", C)"
      ],
      "metadata": {
        "colab": {
          "base_uri": "https://localhost:8080/"
        },
        "id": "pmAvXL_SZkNk",
        "outputId": "747af164-1655-4c3e-aaf3-95bfe4629262"
      },
      "execution_count": 14,
      "outputs": [
        {
          "output_type": "stream",
          "name": "stdout",
          "text": [
            "Matrix A [[  3  -1   1]\n",
            " [  9  -3   3]\n",
            " [-12   4  -4]]\n",
            "Inv A [[ 0.01048951  0.03146853 -0.04195804]\n",
            " [-0.0034965  -0.01048951  0.01398601]\n",
            " [ 0.0034965   0.01048951 -0.01398601]]\n",
            "Matrix A [[  3  -1   1]\n",
            " [  9  -3   3]\n",
            " [-12   4  -4]]\n",
            "Dot [[ 1.20629371]\n",
            " [-0.4020979 ]\n",
            " [ 0.4020979 ]]\n",
            "Checking [[  4.42307692]\n",
            " [ 13.26923077]\n",
            " [-17.69230769]]\n"
          ]
        }
      ]
    },
    {
      "cell_type": "markdown",
      "source": [
        "##Problem 3"
      ],
      "metadata": {
        "id": "EmjL4QcbXW0a"
      }
    },
    {
      "cell_type": "code",
      "execution_count": 6,
      "metadata": {
        "colab": {
          "base_uri": "https://localhost:8080/"
        },
        "id": "-om0YEe6XCh1",
        "outputId": "4c7a6977-3b82-4251-f370-09c0c9a8abf3"
      },
      "outputs": [
        {
          "output_type": "stream",
          "name": "stdout",
          "text": [
            "[[  8   5  -6]\n",
            " [-12  -9 -12]\n",
            " [ -3  -3   5]]\n",
            "The eigenvalue/s is/are: [-8.11684397  3.          9.11684397]\n",
            "The eigenvectors are: [[ 2.35632155e-01 -7.07106781e-01 -8.61671223e-01]\n",
            " [-9.57707415e-01  7.07106781e-01  2.99299241e-01]\n",
            " [-1.65148399e-01 -1.19155502e-16  4.09808086e-01]]\n"
          ]
        }
      ],
      "source": [
        "matrix3 =np.array ([[8,5,-6],[-12,-9,-12],[-3,-3,5]]) #This line determines the array that will be solved\n",
        "print(matrix3)\n",
        "\n",
        "value,vector = np.linalg.eig(matrix3)   #This line contains the code for finding the eigenvalue and eigevector\n",
        "print (\"The eigenvalue/s is/are:\",value)\n",
        "print (\"The eigenvectors are:\",vector)"
      ]
    }
  ]
}