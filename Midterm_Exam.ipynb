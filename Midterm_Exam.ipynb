{
  "nbformat": 4,
  "nbformat_minor": 0,
  "metadata": {
    "colab": {
      "name": "Midterm Exam",
      "provenance": [],
      "authorship_tag": "ABX9TyNjxhVhJZktp9ZoCp7UpQMK",
      "include_colab_link": true
    },
    "kernelspec": {
      "name": "python3",
      "display_name": "Python 3"
    },
    "language_info": {
      "name": "python"
    }
  },
  "cells": [
    {
      "cell_type": "markdown",
      "metadata": {
        "id": "view-in-github",
        "colab_type": "text"
      },
      "source": [
        "<a href=\"https://colab.research.google.com/github/YushirohMurasakih/Linear-Algebra-58020/blob/main/Midterm_Exam.ipynb\" target=\"_parent\"><img src=\"https://colab.research.google.com/assets/colab-badge.svg\" alt=\"Open In Colab\"/></a>"
      ]
    },
    {
      "cell_type": "code",
      "metadata": {
        "id": "K8eSRQKa4ilE"
      },
      "source": [
        "import numpy as np"
      ],
      "execution_count": 1,
      "outputs": []
    },
    {
      "cell_type": "markdown",
      "metadata": {
        "id": "-d-b8uJX428B"
      },
      "source": [
        "##Question 1"
      ]
    },
    {
      "cell_type": "code",
      "metadata": {
        "colab": {
          "base_uri": "https://localhost:8080/"
        },
        "id": "DlBqsCzC42Qi",
        "outputId": "43f128d0-9095-49ab-d6c1-f7f2ad9498e7"
      },
      "source": [
        "A = np.eye(5) #this is a syntax that will display an identity matrix with a length of 5\n",
        "print(A)"
      ],
      "execution_count": 2,
      "outputs": [
        {
          "output_type": "stream",
          "name": "stdout",
          "text": [
            "[[1. 0. 0. 0. 0.]\n",
            " [0. 1. 0. 0. 0.]\n",
            " [0. 0. 1. 0. 0.]\n",
            " [0. 0. 0. 1. 0.]\n",
            " [0. 0. 0. 0. 1.]]\n"
          ]
        }
      ]
    },
    {
      "cell_type": "markdown",
      "metadata": {
        "id": "UTUz2hpG6d_o"
      },
      "source": [
        "##Question 2"
      ]
    },
    {
      "cell_type": "code",
      "metadata": {
        "colab": {
          "base_uri": "https://localhost:8080/"
        },
        "id": "oa30XpZa69ic",
        "outputId": "030c03d9-56fd-401d-d47b-fd76f99c08a0"
      },
      "source": [
        "B1 = np.array([[3,4,6,5],[0,8,3,2],[0,0,4,3],[0,0,0,6]])\n",
        "print(B1)"
      ],
      "execution_count": 12,
      "outputs": [
        {
          "output_type": "stream",
          "name": "stdout",
          "text": [
            "[[3 4 6 5]\n",
            " [0 8 3 2]\n",
            " [0 0 4 3]\n",
            " [0 0 0 6]]\n"
          ]
        }
      ]
    },
    {
      "cell_type": "markdown",
      "metadata": {
        "id": "fLLpbuvq8U9h"
      },
      "source": [
        "##Question 3"
      ]
    },
    {
      "cell_type": "code",
      "metadata": {
        "colab": {
          "base_uri": "https://localhost:8080/"
        },
        "id": "odLeiF-q8YAt",
        "outputId": "e6cd77d2-8c6e-493d-f7c4-7d24fcd12275"
      },
      "source": [
        "B2 = np.array([[1,2,6],[2,8,4],[6,4,5]])\n",
        "print(B2)"
      ],
      "execution_count": 11,
      "outputs": [
        {
          "output_type": "stream",
          "name": "stdout",
          "text": [
            "[[1 2 6]\n",
            " [2 8 4]\n",
            " [6 4 5]]\n"
          ]
        }
      ]
    },
    {
      "cell_type": "markdown",
      "metadata": {
        "id": "PoFSJxmL9jIY"
      },
      "source": [
        "##Question 4"
      ]
    },
    {
      "cell_type": "code",
      "metadata": {
        "colab": {
          "base_uri": "https://localhost:8080/"
        },
        "id": "quhIpGqn9JOX",
        "outputId": "487f146c-c1ae-41b1-f3cd-cc82851c2ae2"
      },
      "source": [
        "C = np.array([[1,2,3],[2,3,3],[3,4,-2]]) #the given matrix C\n",
        "print(C)\n",
        "\n",
        "invC = np.linalg.inv(C) # this is the line that would convert matrix C to its inverse\n",
        "print(\" \")\n",
        "print(\"Inverse\")\n",
        "print(\" \")\n",
        "print(invC)"
      ],
      "execution_count": 21,
      "outputs": [
        {
          "output_type": "stream",
          "name": "stdout",
          "text": [
            "[[ 1  2  3]\n",
            " [ 2  3  3]\n",
            " [ 3  4 -2]]\n",
            " \n",
            "Inverse\n",
            " \n",
            "[[-3.6  3.2 -0.6]\n",
            " [ 2.6 -2.2  0.6]\n",
            " [-0.2  0.4 -0.2]]\n"
          ]
        }
      ]
    },
    {
      "cell_type": "markdown",
      "metadata": {
        "id": "VYL5k8ez_HOB"
      },
      "source": [
        "#Question 5"
      ]
    },
    {
      "cell_type": "code",
      "metadata": {
        "colab": {
          "base_uri": "https://localhost:8080/"
        },
        "id": "0qbismqn_J9Z",
        "outputId": "02763a3a-6502-4871-b3ac-3bc51132de89"
      },
      "source": [
        "C = np.array([[1,2,3],[2,3,3],[3,4,-2]]) #the given matrix C the same in the previous number\n",
        "print(C)\n",
        "\n",
        "detC = np.linalg.det(C) # the command to solve the determinant\n",
        "print(\" \")\n",
        "print(\"Determinant\")\n",
        "print(\" \")\n",
        "print(detC)"
      ],
      "execution_count": 23,
      "outputs": [
        {
          "output_type": "stream",
          "name": "stdout",
          "text": [
            "[[ 1  2  3]\n",
            " [ 2  3  3]\n",
            " [ 3  4 -2]]\n",
            " \n",
            "Determinant\n",
            " \n",
            "5.000000000000001\n"
          ]
        }
      ]
    },
    {
      "cell_type": "markdown",
      "metadata": {
        "id": "0rxvhVLoAVu-"
      },
      "source": [
        "##Question 6"
      ]
    },
    {
      "cell_type": "code",
      "metadata": {
        "colab": {
          "base_uri": "https://localhost:8080/"
        },
        "id": "Z9COBPlOAZZE",
        "outputId": "1b7c69c6-33ef-4d62-bb74-596e655f9cef"
      },
      "source": [
        "D = np.array([[5,4,1,3.4],[10,9,4,8.8],[10,13,15,19.2]]) ##this is the given matrix\n",
        "print(D)\n",
        "\n",
        "sqrtD = np.sqrt(D) # this line contains the command to find the roots of the given matrix\n",
        "print(\" \")\n",
        "print(\"Roots\")\n",
        "print(\" \")\n",
        "print(sqrtD)"
      ],
      "execution_count": 32,
      "outputs": [
        {
          "output_type": "stream",
          "name": "stdout",
          "text": [
            "[[ 5.   4.   1.   3.4]\n",
            " [10.   9.   4.   8.8]\n",
            " [10.  13.  15.  19.2]]\n",
            " \n",
            "Roots\n",
            " \n",
            "[[2.23606798 2.         1.         1.84390889]\n",
            " [3.16227766 3.         2.         2.96647939]\n",
            " [3.16227766 3.60555128 3.87298335 4.38178046]]\n"
          ]
        }
      ]
    }
  ]
}