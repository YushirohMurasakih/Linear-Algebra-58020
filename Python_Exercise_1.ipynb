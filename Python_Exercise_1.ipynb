{
  "nbformat": 4,
  "nbformat_minor": 0,
  "metadata": {
    "colab": {
      "name": "Python Exercise 1",
      "provenance": [],
      "authorship_tag": "ABX9TyP04MvuEzKwQ26xhAdZHUP/",
      "include_colab_link": true
    },
    "kernelspec": {
      "name": "python3",
      "display_name": "Python 3"
    },
    "language_info": {
      "name": "python"
    }
  },
  "cells": [
    {
      "cell_type": "markdown",
      "metadata": {
        "id": "view-in-github",
        "colab_type": "text"
      },
      "source": [
        "<a href=\"https://colab.research.google.com/github/YushirohMurasakih/Linear-Algebra-58020/blob/main/Python_Exercise_1.ipynb\" target=\"_parent\"><img src=\"https://colab.research.google.com/assets/colab-badge.svg\" alt=\"Open In Colab\"/></a>"
      ]
    },
    {
      "cell_type": "code",
      "metadata": {
        "id": "bQu40KMGK8HS"
      },
      "source": [
        "import numpy as np"
      ],
      "execution_count": 2,
      "outputs": []
    },
    {
      "cell_type": "code",
      "metadata": {
        "colab": {
          "base_uri": "https://localhost:8080/"
        },
        "id": "GKFEqdvXKgcz",
        "outputId": "e915767a-a87a-44ea-ce9a-a3bdc7065aad"
      },
      "source": [
        "a=np.array([[-5,0],[4,1]])\n",
        "print(a)\n",
        "b=np.array([[6,-3],[2,3]])\n",
        "print(b)"
      ],
      "execution_count": 4,
      "outputs": [
        {
          "output_type": "stream",
          "name": "stdout",
          "text": [
            "[[-5  0]\n",
            " [ 4  1]]\n",
            "[[ 6 -3]\n",
            " [ 2  3]]\n"
          ]
        }
      ]
    },
    {
      "cell_type": "code",
      "metadata": {
        "colab": {
          "base_uri": "https://localhost:8080/"
        },
        "id": "dCybEOt5LLBF",
        "outputId": "5531b3f4-58f0-4869-961a-8e0ade2860a3"
      },
      "source": [
        "print(a-b)"
      ],
      "execution_count": 5,
      "outputs": [
        {
          "output_type": "stream",
          "name": "stdout",
          "text": [
            "[[-11   3]\n",
            " [  2  -2]]\n"
          ]
        }
      ]
    },
    {
      "cell_type": "code",
      "metadata": {
        "colab": {
          "base_uri": "https://localhost:8080/"
        },
        "id": "KRmY479zLPkV",
        "outputId": "51dc018b-a839-46d2-be8a-e6b6db9e214e"
      },
      "source": [
        "print(b-b)"
      ],
      "execution_count": 6,
      "outputs": [
        {
          "output_type": "stream",
          "name": "stdout",
          "text": [
            "[[0 0]\n",
            " [0 0]]\n"
          ]
        }
      ]
    }
  ]
}