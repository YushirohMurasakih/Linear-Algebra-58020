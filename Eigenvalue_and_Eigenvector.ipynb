{
  "nbformat": 4,
  "nbformat_minor": 0,
  "metadata": {
    "colab": {
      "name": "Eigenvalue and Eigenvector",
      "provenance": [],
      "authorship_tag": "ABX9TyNN98vH3GbmVv5ouXl5grG/",
      "include_colab_link": true
    },
    "kernelspec": {
      "name": "python3",
      "display_name": "Python 3"
    },
    "language_info": {
      "name": "python"
    }
  },
  "cells": [
    {
      "cell_type": "markdown",
      "metadata": {
        "id": "view-in-github",
        "colab_type": "text"
      },
      "source": [
        "<a href=\"https://colab.research.google.com/github/YushirohMurasakih/Linear-Algebra-58020/blob/main/Eigenvalue_and_Eigenvector.ipynb\" target=\"_parent\"><img src=\"https://colab.research.google.com/assets/colab-badge.svg\" alt=\"Open In Colab\"/></a>"
      ]
    },
    {
      "cell_type": "code",
      "metadata": {
        "id": "vK1TXgc-17yv"
      },
      "source": [
        "import numpy as np\n",
        "from numpy.linalg import eig"
      ],
      "execution_count": 2,
      "outputs": []
    },
    {
      "cell_type": "code",
      "metadata": {
        "colab": {
          "base_uri": "https://localhost:8080/"
        },
        "id": "87C5gEmt145M",
        "outputId": "6a51eeb6-aefa-478e-d43b-8515c300aaf9"
      },
      "source": [
        "##Example 1\n",
        "\n",
        "A=np.array([[-1,3],[2,5]])\n",
        "print(A)\n",
        "\n",
        "inv_A=np.linalg.inv(A)\n",
        "print(inv_A)\n",
        "\n",
        "B=np.array([[0],[0]])\n",
        "print(B)\n",
        "\n",
        "X=np.dot(inv_A,B)\n",
        "print(X)"
      ],
      "execution_count": 3,
      "outputs": [
        {
          "output_type": "stream",
          "name": "stdout",
          "text": [
            "[[-1  3]\n",
            " [ 2  5]]\n",
            "[[-0.45454545  0.27272727]\n",
            " [ 0.18181818  0.09090909]]\n",
            "[[0]\n",
            " [0]]\n",
            "[[0.]\n",
            " [0.]]\n"
          ]
        }
      ]
    },
    {
      "cell_type": "code",
      "metadata": {
        "colab": {
          "base_uri": "https://localhost:8080/"
        },
        "id": "h6f-u2vV2YIq",
        "outputId": "83e0ad6e-2867-4b0c-e572-abf1d67abe25"
      },
      "source": [
        "#Example 2\n",
        "A=np.array([[4,2,0],[6,6,6],[0,6,9]])\n",
        "print(A)\n",
        "s,t=np.linalg.eig(A)\n",
        "print(s.round())\n",
        "print(t.round())\n",
        "c=np.dot(A,t.round())\n",
        "print(c)\n",
        "\n",
        "f=np.array([[-1],[-1],[-1]])\n",
        "print(f)\n",
        "g=np.dot(A,f)\n",
        "print(g)\n"
      ],
      "execution_count": 4,
      "outputs": [
        {
          "output_type": "stream",
          "name": "stdout",
          "text": [
            "[[4 2 0]\n",
            " [6 6 6]\n",
            " [0 6 9]]\n",
            "[-0.  5. 14.]\n",
            "[[ 0.  1.  0.]\n",
            " [-1.  0.  1.]\n",
            " [ 1. -1.  1.]]\n",
            "[[-2.  4.  2.]\n",
            " [ 0.  0. 12.]\n",
            " [ 3. -9. 15.]]\n",
            "[[-1]\n",
            " [-1]\n",
            " [-1]]\n",
            "[[ -6]\n",
            " [-18]\n",
            " [-15]]\n"
          ]
        }
      ]
    },
    {
      "cell_type": "code",
      "metadata": {
        "id": "T6ysWNd917B4"
      },
      "source": [
        ""
      ],
      "execution_count": null,
      "outputs": []
    }
  ]
}